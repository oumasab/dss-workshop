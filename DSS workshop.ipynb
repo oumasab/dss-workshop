{
  "cells": [
    {
      "cell_type": "markdown",
      "id": "134117d5-795a-4174-a480-7ce5bf18d304",
      "metadata": {
        "id": "134117d5-795a-4174-a480-7ce5bf18d304",
        "tags": []
      },
      "source": [
        "## DSS Worshop: Synthetic Data Generation With SDV\n",
        "Data privacy is increasingly becoming an important consideration when we tackle any data science use-case. In order to comply with regulation and still innovate and create value, Privacy Enhancing Techniques (PETs) are worth considering. For a broad overview of PETs, we invite you to follow our sub-community in DS4A and check out our wiki and our past talks. If you are interested in PETs and would like to contribute with ideas, talks, questions, use-cases or introduce us to a cool technique you have seen somewhere, you are the most welcome !\n",
        "\n",
        "Synthetic data generation is one of the hottest PETs, so this workshop aims to introduce synthetic data generation using the Synthetic Data Vault library (https://sdv.dev/). We will explore together an example of synthetic data generation on a simple insurance dataset. First, we will load an visualize our dataset. Then, we will test the following synthetic data generation models:\n",
        "- Gaussian Copula\n",
        "- CTGAN\n",
        "- TVAE\n",
        "\n",
        "### Guidelines for the workshop\n",
        "- We recommend that you complete this workshop using Colab, you can use your favorite notebook environment if you wish, but we won't be able to help with errors due to environment settings\n",
        "- You will have sections marked **TO DO** that contain comments `#Your code` for you to fill in. You will be given time to complete the sections and we will discuss together. The instructions will be explained before each exercise.\n",
        "- At any given moment, you can ask questions. **Please interreupt the speaker if you are unable to run the notebook**. You can also use the chat to ask questions and we will read the questions."
      ]
    },
    {
      "cell_type": "markdown",
      "id": "a1a259e7-4a6d-40c9-8c8d-6f69f51b07e6",
      "metadata": {
        "id": "a1a259e7-4a6d-40c9-8c8d-6f69f51b07e6"
      },
      "source": [
        "**!!! SKIP IF ALREADY EXECUTED !!!**"
      ]
    },
    {
      "cell_type": "code",
      "execution_count": null,
      "id": "91ca6736-8600-4f04-a1db-260c5a28f64b",
      "metadata": {
        "id": "91ca6736-8600-4f04-a1db-260c5a28f64b",
        "tags": []
      },
      "outputs": [],
      "source": [
        "!pip install matplotlib==3.1.3\n",
        "!pip install -U numpy\n",
        "!pip install sdv\n",
        "!pip install -U seaborn"
      ]
    },
    {
      "cell_type": "markdown",
      "id": "6bef619a-4184-49ec-bc73-f353f5a6b0b7",
      "metadata": {
        "id": "6bef619a-4184-49ec-bc73-f353f5a6b0b7"
      },
      "source": [
        "**!!!!!!!!!!!!!!!!!!!!!!!!!!!!**"
      ]
    },
    {
      "cell_type": "code",
      "execution_count": null,
      "id": "1f7a8c5e-90fc-4d79-b855-433354a5068b",
      "metadata": {
        "id": "1f7a8c5e-90fc-4d79-b855-433354a5068b"
      },
      "outputs": [],
      "source": [
        "import matplotlib.pyplot as plt\n",
        "import seaborn as sns\n",
        "import pandas as pd\n",
        "from sdv.metadata import SingleTableMetadata\n",
        "from sdv.lite import SingleTablePreset\n",
        "from sdv.single_table import CTGANSynthesizer, GaussianCopulaSynthesizer, TVAESynthesizer, CopulaGANSynthesizer\n",
        "from sdv.evaluation.single_table import evaluate_quality, get_column_plot"
      ]
    },
    {
      "cell_type": "markdown",
      "id": "226b5c1b-609e-485a-81a9-71bbed5aad8f",
      "metadata": {
        "id": "226b5c1b-609e-485a-81a9-71bbed5aad8f"
      },
      "source": [
        "### Load and visualize the dataset"
      ]
    },
    {
      "cell_type": "code",
      "execution_count": null,
      "id": "73e81b87-a25b-4583-a91e-db01eb57fa41",
      "metadata": {
        "id": "73e81b87-a25b-4583-a91e-db01eb57fa41"
      },
      "outputs": [],
      "source": [
        "url = 'https://raw.githubusercontent.com/oumasab/dss-workshop/main/insurance.csv'\n",
        "df = pd.read_csv(url)\n",
        "df.head()"
      ]
    },
    {
      "cell_type": "markdown",
      "id": "ca059a26-64af-4004-8855-f3f8d533eec8",
      "metadata": {
        "id": "ca059a26-64af-4004-8855-f3f8d533eec8"
      },
      "source": [
        "#### Display the dataset using seaborn.pairplot()\n",
        "**TO DO:** Let's modify the variable `hue` to visualize data's dependence on the categorical variables"
      ]
    },
    {
      "cell_type": "code",
      "execution_count": null,
      "id": "d2891c62-637a-402c-807a-a722a0d167d6",
      "metadata": {
        "id": "d2891c62-637a-402c-807a-a722a0d167d6"
      },
      "outputs": [],
      "source": [
        "sns.pairplot(data=df, hue=#Your code)\n",
        "plt.show()"
      ]
    },
    {
      "cell_type": "markdown",
      "id": "262d274e-2b42-4a51-b64f-cc6a85a5c643",
      "metadata": {
        "id": "262d274e-2b42-4a51-b64f-cc6a85a5c643"
      },
      "source": [
        "### First attempt at Synthetic data generation\n",
        "Let's generate a first version of synthetic data. Here, we will use the models directly on our dataset without any additional feature engineering.\n",
        "\n",
        "#### Quick usage of SDV models\n",
        "Nothing is easier than getting started with SDV models. All you have to do is to follow these steps:\n",
        "1. Load your dataset as Pandas `DataFrame`\n",
        "2. (Optional, but recommended for the Tabular Preset) Define you dataset's metadata (description of column types)\n",
        "3. Initialize the model\n",
        "4. Use the `fit()` method\n",
        "5. Sample new data using the `sample()` method"
      ]
    },
    {
      "cell_type": "code",
      "execution_count": null,
      "id": "yXELCQ2_nOMV",
      "metadata": {
        "id": "yXELCQ2_nOMV"
      },
      "outputs": [],
      "source": [
        "metadata = SingleTableMetadata()\n",
        "metadata.detect_from_dataframe(data=df)"
      ]
    },
    {
      "cell_type": "markdown",
      "id": "f3ff132a-7767-4aa1-9ab1-35712a0fce01",
      "metadata": {
        "id": "f3ff132a-7767-4aa1-9ab1-35712a0fce01"
      },
      "source": [
        "#### Single Table Preset\n",
        "The `SingleTablePreset` is a tabular model that comes with pre-configured settings. This is meant for users who want to get started with using synthetic data and spend less time worrying about which model to choose or how to tune its parameters.\n",
        "The `FAST_ML` preset uses machine learning (ML) to model your data while optimizing for the modeling time. This is a great choice if it’s your first time using the SDV for a large custom dataset or if you’re exploring the benefits of using ML to create synthetic data."
      ]
    },
    {
      "cell_type": "code",
      "execution_count": null,
      "id": "f2a2cd5e-c997-41db-a3a0-3f3f2950ba8f",
      "metadata": {
        "id": "f2a2cd5e-c997-41db-a3a0-3f3f2950ba8f"
      },
      "outputs": [],
      "source": [
        "model_fastml = SingleTablePreset(name='FAST_ML', metadata=metadata)\n",
        "model_fastml.fit(df)"
      ]
    },
    {
      "cell_type": "code",
      "execution_count": null,
      "id": "8895a55a-8322-44e0-a901-e59869adfc35",
      "metadata": {
        "id": "8895a55a-8322-44e0-a901-e59869adfc35"
      },
      "outputs": [],
      "source": [
        "df_fastml = model_fastml.sample(1400)"
      ]
    },
    {
      "cell_type": "markdown",
      "id": "30a54222-3602-49c4-852d-9cc9890658a2",
      "metadata": {
        "id": "30a54222-3602-49c4-852d-9cc9890658a2"
      },
      "source": [
        "**Let's visualize the synthetic data**\n",
        "\n",
        "**TO DO:** Visualize the synthetic data using `sns.pairplot()`"
      ]
    },
    {
      "cell_type": "code",
      "execution_count": null,
      "id": "86ec79b4-225e-4f8c-b874-290a116a0809",
      "metadata": {
        "id": "86ec79b4-225e-4f8c-b874-290a116a0809"
      },
      "outputs": [],
      "source": [
        "#Your code"
      ]
    },
    {
      "cell_type": "markdown",
      "id": "2fb88fbe-d9e3-4bbb-aadd-d1cda9ff2dc4",
      "metadata": {
        "id": "2fb88fbe-d9e3-4bbb-aadd-d1cda9ff2dc4",
        "tags": []
      },
      "source": [
        "#### Gaussian Copula\n",
        "The `sdv.single_table.GaussianCopulaSynthesizer` model is based on copula funtions.\n",
        "\n",
        "In mathematical terms, a copula is a distribution over the unit cube $[0,1]^{𝑑}$ which is constructed from a multivariate normal distribution over $ℝ^{𝑑}$ by using the probability integral transform. Intuitively, a copula is a mathematical function that allows us to describe the joint distribution of multiple random variables by analyzing the dependencies between their marginal distributions. \n",
        "\n",
        "In order to \"learn\" the original dataset, the `GaussianCopulaSynthesizer()` model performs the following steps:\n",
        "\n",
        "1. Learn the format and data types of the passed data\n",
        "\n",
        "2. Transform the non-numerical and null data using Reversible Data Transforms to obtain a fully numerical representation of the data from which we can learn the probability distributions.\n",
        "\n",
        "3. Learn the probability distribution of each column from the table\n",
        "\n",
        "4. Transform the values of each numerical column by converting them to their marginal distribution CDF values and then applying an inverse CDF transformation of a standard normal on them.\n",
        "\n",
        "5. Learn the correlations of the newly generated random variables.\n",
        "\n",
        "After this, in order to generate the synthetic dataset using the trained model, the following steps are performed:\n",
        "\n",
        "1. Sample from a Multivariate Standard Normal distribution with the learned correlations.\n",
        "\n",
        "2. Revert the sampled values by computing their standard normal CDF and then applying the inverse CDF of their marginal distributions.\n",
        "\n",
        "3. Revert the RDT transformations to go back to the original data format.\n"
      ]
    },
    {
      "cell_type": "code",
      "execution_count": null,
      "id": "0ed69b8b-4b4b-4e6f-9a31-ff86cce40e68",
      "metadata": {
        "id": "0ed69b8b-4b4b-4e6f-9a31-ff86cce40e68"
      },
      "outputs": [],
      "source": [
        "model_gaussian = GaussianCopulaSynthesizer(metadata=metadata)\n",
        "model_gaussian.fit(df)"
      ]
    },
    {
      "cell_type": "code",
      "execution_count": null,
      "id": "9ccc1a3d-a847-499e-8447-5c935adab139",
      "metadata": {
        "id": "9ccc1a3d-a847-499e-8447-5c935adab139"
      },
      "outputs": [],
      "source": [
        "df_gaussian = model_gaussian.sample(1400)"
      ]
    },
    {
      "cell_type": "code",
      "execution_count": null,
      "id": "a47d6aff-920c-402a-9884-f078fb6a964c",
      "metadata": {
        "id": "a47d6aff-920c-402a-9884-f078fb6a964c"
      },
      "outputs": [],
      "source": [
        "sns.pairplot(data=df_gaussian, hue=\"smoker\")\n",
        "plt.show()"
      ]
    },
    {
      "cell_type": "markdown",
      "id": "7eb5d5b4-9c97-4ffc-882f-ac3dc57ba415",
      "metadata": {
        "id": "7eb5d5b4-9c97-4ffc-882f-ac3dc57ba415"
      },
      "source": [
        "**Train a CTGAN model**"
      ]
    },
    {
      "cell_type": "markdown",
      "id": "7d5c90d0-e11c-4d69-bd15-beb558b49022",
      "metadata": {
        "id": "7d5c90d0-e11c-4d69-bd15-beb558b49022",
        "tags": []
      },
      "source": [
        "#### CTGAN\n",
        "The `sdv.single_table.CTGANSynthesizer` model is based on the GAN-based Deep Learning data synthesizer which was presented at the NeurIPS 2020 conference by the paper titled Modeling Tabular data using Conditional GAN.\n",
        "\n",
        "A few details about CTGAN:\n",
        "- GAN-based method to sample from the distribution of the input data\n",
        "- This method is more adapted to deal with class imbalance in categorical variables as the Generator uses training-by-sampling\n",
        "- Both the Generator and Discriminator are fully connected networks, which allows to capture all correlations between features\n",
        "- CTGAN achieves Differential Privacy as the CTGAN Generator never accesses the real data throughout training\n",
        "\n",
        "**TO DO:** Train then sample data from a CTGAN model. Visualize the result."
      ]
    },
    {
      "cell_type": "code",
      "execution_count": null,
      "id": "6ea2a4e2-3712-4c6d-9b0c-5ec42dfc786c",
      "metadata": {
        "id": "6ea2a4e2-3712-4c6d-9b0c-5ec42dfc786c",
        "tags": []
      },
      "outputs": [],
      "source": [
        "#Your code"
      ]
    },
    {
      "cell_type": "code",
      "execution_count": null,
      "id": "f8f8dc14-c291-49dc-9407-17db82ab2d2c",
      "metadata": {
        "id": "f8f8dc14-c291-49dc-9407-17db82ab2d2c"
      },
      "outputs": [],
      "source": [
        "#Your code"
      ]
    },
    {
      "cell_type": "markdown",
      "id": "16e9e8d0-0e18-4f56-aadd-a679c38f4422",
      "metadata": {
        "id": "16e9e8d0-0e18-4f56-aadd-a679c38f4422"
      },
      "source": [
        "**Visualize the synthetic dataset**"
      ]
    },
    {
      "cell_type": "code",
      "execution_count": null,
      "id": "067529b1-39e4-4205-a6cf-450db5889339",
      "metadata": {
        "id": "067529b1-39e4-4205-a6cf-450db5889339"
      },
      "outputs": [],
      "source": [
        "#Your code"
      ]
    },
    {
      "cell_type": "markdown",
      "id": "b0e5fe6b-73e6-40c5-ac2f-3e134367c026",
      "metadata": {
        "id": "b0e5fe6b-73e6-40c5-ac2f-3e134367c026",
        "tags": []
      },
      "source": [
        "#### TVAE\n",
        "The `sdv.tabular.TVAESynthesizer` model is based on the VAE-based Deep Learning data synthesizer which was presented at the NeurIPS 2020 conference by the paper titled Modeling Tabular data using Conditional GAN.\n",
        "\n",
        "A few details about TVAE:\n",
        "- An adaptation of VAE for tabular data: the encoder is adapted to work with tabular data, the decoder is kept as in classic VAE\n",
        "- In a nutshell, TVAE (much like VAE) is composed of an encoder that transforms input to a latent space, then a decoder that samples new data from the latent space\n",
        "- Unlike CTGAN, TVAE is not compatible with Differential Privacy\n",
        "\n",
        "**TO DO:** Train then sample data from a TVAE model. Visualize the result."
      ]
    },
    {
      "cell_type": "code",
      "execution_count": null,
      "id": "09f8ba74-4da9-4fed-977e-469d332f9b45",
      "metadata": {
        "id": "09f8ba74-4da9-4fed-977e-469d332f9b45"
      },
      "outputs": [],
      "source": [
        "#Your code"
      ]
    },
    {
      "cell_type": "markdown",
      "id": "fbb27d20-ba0a-4445-8da8-01cd51da3bc5",
      "metadata": {
        "id": "fbb27d20-ba0a-4445-8da8-01cd51da3bc5"
      },
      "source": [
        "**Visualize the generated dataset**"
      ]
    },
    {
      "cell_type": "code",
      "execution_count": null,
      "id": "a7eb777d-84df-42e9-ba35-b6a0b323e8a8",
      "metadata": {
        "id": "a7eb777d-84df-42e9-ba35-b6a0b323e8a8"
      },
      "outputs": [],
      "source": [
        "#Your code"
      ]
    },
    {
      "cell_type": "markdown",
      "id": "8263f3e7-becb-4740-8756-3ed0f4db2276",
      "metadata": {
        "id": "8263f3e7-becb-4740-8756-3ed0f4db2276",
        "tags": []
      },
      "source": [
        "#### Deep-dive into a few features\n",
        "**Visualize the figure of charges w.r.t to age in the synthetic dataset and the real dataset in the same figure using `sns.scatterplot()`**"
      ]
    },
    {
      "cell_type": "code",
      "execution_count": null,
      "id": "6b8a901c-7ee4-41a4-85e6-7e357c3fe9e5",
      "metadata": {
        "id": "6b8a901c-7ee4-41a4-85e6-7e357c3fe9e5"
      },
      "outputs": [],
      "source": [
        "to_plot = df_gaussian[[\"age\", \"charges\"]]\n",
        "to_plot[\"data\"] = \"synthetic\"\n",
        "to_plot = pd.concat([to_plot, df[[\"age\", \"charges\"]]])\n",
        "to_plot.fillna(\"real\", inplace=True)\n",
        "sns.scatterplot(data=to_plot, x=\"age\", y=\"charges\", hue=\"data\")\n",
        "plt.show()"
      ]
    },
    {
      "cell_type": "markdown",
      "id": "a69528bf-4dac-4781-ae9d-c3728ab3d28e",
      "metadata": {
        "id": "a69528bf-4dac-4781-ae9d-c3728ab3d28e"
      },
      "source": [
        ":**Visualize the distributions of given features in the synthetic data using `sdv.evaluation.single_table.get_column_plot()`**\n",
        "\n",
        "**TO DO:** Change the parameter `column_name` to visualize different variables"
      ]
    },
    {
      "cell_type": "code",
      "execution_count": null,
      "id": "49aa295e-54c0-4678-92d4-5fceb0462953",
      "metadata": {
        "id": "49aa295e-54c0-4678-92d4-5fceb0462953"
      },
      "outputs": [],
      "source": [
        "fig = get_column_plot(\n",
        "    real_data=df,\n",
        "    synthetic_data=df_gaussian,\n",
        "    column_name=#Your code,\n",
        "    metadata=metadata\n",
        ")\n",
        "\n",
        "fig.show()"
      ]
    },
    {
      "cell_type": "markdown",
      "id": "d806c93f-1b07-4127-a269-075173cead79",
      "metadata": {
        "id": "d806c93f-1b07-4127-a269-075173cead79",
        "tags": []
      },
      "source": [
        "#### Evaluate the models\n",
        "SDV offers the possibility to evaluate the quality of the generated data using `sdv.evaluation.single_table.evaluate_quality`, which is the newest model evaluation framework and allows to visualize quality metrics"
      ]
    },
    {
      "cell_type": "code",
      "execution_count": null,
      "id": "6f072284-671a-4cb1-8bf4-a59f92dd6bef",
      "metadata": {
        "id": "6f072284-671a-4cb1-8bf4-a59f92dd6bef"
      },
      "outputs": [],
      "source": [
        "columns = [\"age\", \"sex\", \"bmi\", \"children\", \"smoker\", \"region\", \"charges\"]\n",
        "real_data = df[columns]\n",
        "synthetic_data = df_gaussian[columns]"
      ]
    },
    {
      "cell_type": "markdown",
      "id": "ff869876-da58-4abd-8642-f55363bb1044",
      "metadata": {
        "id": "ff869876-da58-4abd-8642-f55363bb1044"
      },
      "source": [
        "**Visualize the Quality report**\n",
        "The quality report relies on two main metrics:\n",
        "- **Total Variation Distance:** which evaluates the similarity between two discrete distributions (used for categorical variables)\n",
        "- **Inverted Kolmogorov-Smirnov D statistic:** which evaluates the similarity between two continuous distributions"
      ]
    },
    {
      "cell_type": "code",
      "execution_count": null,
      "id": "b776fc25-a652-40cc-8033-118435edb7d5",
      "metadata": {
        "id": "b776fc25-a652-40cc-8033-118435edb7d5"
      },
      "outputs": [],
      "source": [
        "report = evaluate_quality(\n",
        "    real_data=real_data,\n",
        "    synthetic_data=synthetic_data,\n",
        "    metadata=metadata)"
      ]
    },
    {
      "cell_type": "code",
      "execution_count": null,
      "id": "c968283d-ab1a-41ee-9610-6c27e0975486",
      "metadata": {
        "id": "c968283d-ab1a-41ee-9610-6c27e0975486"
      },
      "outputs": [],
      "source": [
        "report.get_details(property_name='Column Shapes')"
      ]
    },
    {
      "cell_type": "code",
      "execution_count": null,
      "id": "mQ9d8UjrrQwN",
      "metadata": {
        "id": "mQ9d8UjrrQwN"
      },
      "outputs": [],
      "source": [
        "fig = report.get_visualization(property_name='Column Shapes')"
      ]
    },
    {
      "cell_type": "markdown",
      "id": "f7afb88c-bda8-44d7-a91b-dabb2a31aabb",
      "metadata": {
        "id": "f7afb88c-bda8-44d7-a91b-dabb2a31aabb"
      },
      "source": [
        "**A focus on data privacy**\n",
        "\n",
        "This metric measures whether each row in the synthetic data is novel, or whether it exactly matches an original row in the real data.\n",
        "\n",
        "Score:\n",
        "- (best) 1.0: The rows in the synthetic data are all new. There are no matches with the real data.\n",
        "- (worst) 0.0: All the rows in the synthetic data are copies of rows in the real data."
      ]
    },
    {
      "cell_type": "code",
      "execution_count": null,
      "id": "3d21a669-1924-4f9d-8332-a0c28b635990",
      "metadata": {
        "id": "3d21a669-1924-4f9d-8332-a0c28b635990"
      },
      "outputs": [],
      "source": [
        "from sdmetrics.single_table import NewRowSynthesis\n",
        "\n",
        "NewRowSynthesis.compute(\n",
        "    real_data=real_data,\n",
        "    synthetic_data=synthetic_data,\n",
        "    metadata=metadata,\n",
        "    numerical_match_tolerance=0.01,\n",
        ")"
      ]
    },
    {
      "cell_type": "markdown",
      "id": "6d04b04b-d87c-418b-bb04-cd9abce73b9f",
      "metadata": {
        "id": "6d04b04b-d87c-418b-bb04-cd9abce73b9f"
      },
      "source": [
        "### Let's improve our model !\n",
        "At this stage, we need to ask ourselves: is this the best we can do? It seems like we can do better since the models that we have seen so far have failed to capture some of the correlations that we have visualized in the original dataset. \n",
        "\n",
        "**Preliminary question:** Which features do you propose to transform in order to improve the results? Let's hear your ideas !"
      ]
    },
    {
      "cell_type": "markdown",
      "id": "f2a94538-cb48-45f4-8612-c5a70821a514",
      "metadata": {
        "id": "f2a94538-cb48-45f4-8612-c5a70821a514"
      },
      "source": [
        "#### Feature engineering\n"
      ]
    },
    {
      "cell_type": "markdown",
      "id": "a40e12d0-ad78-42dd-9073-ec05527ab506",
      "metadata": {
        "id": "a40e12d0-ad78-42dd-9073-ec05527ab506"
      },
      "source": [
        "**Focus on charges vs. age**\n",
        "\n",
        "**TO DO** Visualize `charges` vs. `age` using `sns.scatterplot()`"
      ]
    },
    {
      "cell_type": "code",
      "execution_count": null,
      "id": "2353d72a-9469-4e90-9b04-afb457eca3bb",
      "metadata": {
        "id": "2353d72a-9469-4e90-9b04-afb457eca3bb"
      },
      "outputs": [],
      "source": [
        "#Your code"
      ]
    },
    {
      "cell_type": "code",
      "execution_count": null,
      "id": "6c9f8e5b-72b8-4717-afa4-93ad6da6737d",
      "metadata": {
        "id": "6c9f8e5b-72b8-4717-afa4-93ad6da6737d"
      },
      "outputs": [],
      "source": [
        "df_2 = df.copy()"
      ]
    },
    {
      "cell_type": "markdown",
      "id": "2325ef79-4ff2-4525-b52f-d58d3fb8e526",
      "metadata": {
        "id": "2325ef79-4ff2-4525-b52f-d58d3fb8e526"
      },
      "source": [
        "**TO DO:** Define a new variable that describes the tiers of charges, let's call it `tier`. It is defined as follows:\n",
        "- `tier 1` if `charges<15000`\n",
        "- `tier 2` if `charges>=15000` and `charges<33000`\n",
        "- `tier 3` if `charges>=33000`\n",
        "\n",
        "**TO DO:** Visualize `charges` vs. `age` using `tier` as a legend."
      ]
    },
    {
      "cell_type": "code",
      "execution_count": null,
      "id": "3cda6ecf-c1c1-45d0-93a2-0e4ff82517e9",
      "metadata": {
        "id": "3cda6ecf-c1c1-45d0-93a2-0e4ff82517e9"
      },
      "outputs": [],
      "source": [
        "# Let's define charges tiers\n",
        "#Your code"
      ]
    },
    {
      "cell_type": "code",
      "execution_count": null,
      "id": "ddbe5219-9db8-4882-a1c6-a23366c6ff42",
      "metadata": {
        "id": "ddbe5219-9db8-4882-a1c6-a23366c6ff42"
      },
      "outputs": [],
      "source": [
        "#Your code"
      ]
    },
    {
      "cell_type": "markdown",
      "id": "6b4ed760-0b64-499a-83cd-9be6be788841",
      "metadata": {
        "id": "6b4ed760-0b64-499a-83cd-9be6be788841"
      },
      "source": [
        "**Transform charges by substracting the fixed charge associated to each tier**"
      ]
    },
    {
      "cell_type": "code",
      "execution_count": null,
      "id": "43fafd25-c954-48a9-8639-89ba6e8ae3dd",
      "metadata": {
        "id": "43fafd25-c954-48a9-8639-89ba6e8ae3dd"
      },
      "outputs": [],
      "source": [
        "# Let's define the fixed charge for each tier\n",
        "fixed_charge_1 = df_2.loc[(df_2[\"tier\"]==\"tier 1\") & (df_2[\"age\"]==18), \"charges\"].min()\n",
        "fixed_charge_2 = df_2.loc[(df_2[\"tier\"]==\"tier 2\") & (df_2[\"age\"]==18), \"charges\"].min()\n",
        "fixed_charge_3 = df_2.loc[(df_2[\"tier\"]==\"tier 3\") & (df_2[\"age\"]==18), \"charges\"].min()\n",
        "df_2.loc[df_2[\"tier\"]==\"tier 1\", \"fixed_charge\"] = fixed_charge_1\n",
        "df_2.loc[df_2[\"tier\"]==\"tier 2\", \"fixed_charge\"] = fixed_charge_2\n",
        "df_2.loc[df_2[\"tier\"]==\"tier 3\", \"fixed_charge\"] = fixed_charge_3"
      ]
    },
    {
      "cell_type": "code",
      "execution_count": null,
      "id": "0c47d7ce-ebbb-438a-839d-b30e5bf880c8",
      "metadata": {
        "id": "0c47d7ce-ebbb-438a-839d-b30e5bf880c8"
      },
      "outputs": [],
      "source": [
        "# Let's subtract the fixed charge from charges for all tiers\n",
        "df_2[\"charges\"] = df_2[\"charges\"] - df_2[\"fixed_charge\"]\n",
        "df_2.drop(columns=[\"fixed_charge\"], inplace=True)"
      ]
    },
    {
      "cell_type": "markdown",
      "id": "2d7aaabf-0302-4938-8672-c15ff2500d14",
      "metadata": {
        "id": "2d7aaabf-0302-4938-8672-c15ff2500d14"
      },
      "source": [
        "**Visualize the new values of `charges` vs. `age`**"
      ]
    },
    {
      "cell_type": "code",
      "execution_count": null,
      "id": "27596a0a-46c5-464f-bd76-f4d00eb6ba05",
      "metadata": {
        "id": "27596a0a-46c5-464f-bd76-f4d00eb6ba05"
      },
      "outputs": [],
      "source": [
        "sns.scatterplot(data=df_2, x=\"age\", y=\"charges\")\n",
        "plt.show()"
      ]
    },
    {
      "cell_type": "markdown",
      "id": "00cc7549-43fa-41f1-a85c-8f69f119294b",
      "metadata": {
        "id": "00cc7549-43fa-41f1-a85c-8f69f119294b"
      },
      "source": [
        "**Visualize a fitted polynomial to `charges` vs `age`**"
      ]
    },
    {
      "cell_type": "code",
      "execution_count": null,
      "id": "0c343ed7-3f21-46b9-a619-8c8b1b730814",
      "metadata": {
        "id": "0c343ed7-3f21-46b9-a619-8c8b1b730814"
      },
      "outputs": [],
      "source": [
        "sns.regplot(data=df_2, x=\"age\", y=\"charges\", order=2, scatter=False)\n",
        "plt.show()"
      ]
    },
    {
      "cell_type": "markdown",
      "id": "0d1cc4ae-6b4d-4720-b183-545462e2a69a",
      "metadata": {
        "id": "0d1cc4ae-6b4d-4720-b183-545462e2a69a"
      },
      "source": [
        "**TO DO:** Based on what we have seen previously, create a new feature that accounts for the order of the polynomial that describes the relationship between `charges` and `age`"
      ]
    },
    {
      "cell_type": "code",
      "execution_count": null,
      "id": "12b9b8e4-9efb-49a6-b5c6-a3c2f0414b4e",
      "metadata": {
        "id": "12b9b8e4-9efb-49a6-b5c6-a3c2f0414b4e"
      },
      "outputs": [],
      "source": [
        "# Let's take into account the above observation !\n",
        "#Your code"
      ]
    },
    {
      "cell_type": "code",
      "execution_count": null,
      "id": "UbTmB2Xrqj9s",
      "metadata": {
        "id": "UbTmB2Xrqj9s"
      },
      "outputs": [],
      "source": [
        "metadata_2 = SingleTableMetadata()\n",
        "metadata_2.detect_from_dataframe(data=df_2)"
      ]
    },
    {
      "cell_type": "markdown",
      "id": "e6aa8ee2-9496-4b58-9e21-3d9fb28f6f24",
      "metadata": {
        "id": "e6aa8ee2-9496-4b58-9e21-3d9fb28f6f24"
      },
      "source": [
        "#### Let's train a synthetic data generation model"
      ]
    },
    {
      "cell_type": "markdown",
      "id": "32c2b1dc-7a6f-4713-b881-5ecbd77f15c5",
      "metadata": {
        "id": "32c2b1dc-7a6f-4713-b881-5ecbd77f15c5"
      },
      "source": [
        "**TO DO:** Train then sample data from a synthetic data generation model of your choice (`GuassianCopula`, `CTGAN` or `TVAE`) using the new transformed dataset. "
      ]
    },
    {
      "cell_type": "code",
      "execution_count": null,
      "id": "8d68f992-7499-4a89-a1fd-3d206a64d602",
      "metadata": {
        "id": "8d68f992-7499-4a89-a1fd-3d206a64d602"
      },
      "outputs": [],
      "source": [
        "model_gaussian_2 = GaussianCopulaSynthesizer(metadata=metadata_2)\n",
        "model_gaussian_2.fit(df_2)"
      ]
    },
    {
      "cell_type": "code",
      "execution_count": null,
      "id": "f477171f-7291-40a1-86eb-05d4dd3ce412",
      "metadata": {
        "id": "f477171f-7291-40a1-86eb-05d4dd3ce412"
      },
      "outputs": [],
      "source": [
        "df_gaussian_2 = model_gaussian_2.sample(1400)"
      ]
    },
    {
      "cell_type": "markdown",
      "id": "01f3f2d9-2ec3-4f8d-a75a-bd66191ff05e",
      "metadata": {
        "id": "01f3f2d9-2ec3-4f8d-a75a-bd66191ff05e"
      },
      "source": [
        "**Transform the real data back to its original form:** Add the corresponding fixed charge to the charges of each tier in the real data"
      ]
    },
    {
      "cell_type": "code",
      "execution_count": null,
      "id": "cc950464-cc9a-4d6e-a743-3c4301e0d98a",
      "metadata": {
        "id": "cc950464-cc9a-4d6e-a743-3c4301e0d98a"
      },
      "outputs": [],
      "source": [
        "df_2.loc[df_2[\"tier\"]==\"tier 1\", \"fixed_charge\"] = fixed_charge_1\n",
        "df_2.loc[df_2[\"tier\"]==\"tier 2\", \"fixed_charge\"] = fixed_charge_2\n",
        "df_2.loc[df_2[\"tier\"]==\"tier 3\", \"fixed_charge\"] = fixed_charge_3\n",
        "df_2[\"charges\"] = df_2[\"charges\"] + df_2[\"fixed_charge\"]\n",
        "df_2.drop(columns=[\"fixed_charge\", \"age_squared\"], inplace=True)"
      ]
    },
    {
      "cell_type": "markdown",
      "id": "40c1f8b1-57c5-41c5-9c3e-c8f7f52a0388",
      "metadata": {
        "id": "40c1f8b1-57c5-41c5-9c3e-c8f7f52a0388"
      },
      "source": [
        "**TO DO:** Transform the synthetic data back"
      ]
    },
    {
      "cell_type": "code",
      "execution_count": null,
      "id": "9c01add3-f249-4355-b4d6-519a04fcc4f1",
      "metadata": {
        "id": "9c01add3-f249-4355-b4d6-519a04fcc4f1"
      },
      "outputs": [],
      "source": [
        "# Let's transform the data back\n",
        "#Your code"
      ]
    },
    {
      "cell_type": "markdown",
      "id": "4cbeaadd-e1ab-49f7-b6d6-7c47ddafe1d8",
      "metadata": {
        "id": "4cbeaadd-e1ab-49f7-b6d6-7c47ddafe1d8"
      },
      "source": [
        "**Visualize the synthetic data**"
      ]
    },
    {
      "cell_type": "code",
      "execution_count": null,
      "id": "3da1fd21-c83e-414a-a487-a399b3cc0f7e",
      "metadata": {
        "id": "3da1fd21-c83e-414a-a487-a399b3cc0f7e",
        "tags": []
      },
      "outputs": [],
      "source": [
        "sns.pairplot(data=df_gaussian_2, hue=\"smoker\")\n",
        "plt.show()"
      ]
    },
    {
      "cell_type": "markdown",
      "id": "c07577f4-a739-4020-8df4-9352e9a5c237",
      "metadata": {
        "id": "c07577f4-a739-4020-8df4-9352e9a5c237"
      },
      "source": [
        "#### Let's evaluate the new generated data"
      ]
    },
    {
      "cell_type": "code",
      "execution_count": null,
      "id": "baa38b60-7b95-4db6-9465-6089e7e57eae",
      "metadata": {
        "id": "baa38b60-7b95-4db6-9465-6089e7e57eae"
      },
      "outputs": [],
      "source": [
        "columns = [\"age\", \"sex\", \"bmi\", \"children\", \"smoker\", \"region\", \"charges\"]\n",
        "real_data = df_2[columns]\n",
        "synthetic_data = df_gaussian_2[columns]"
      ]
    },
    {
      "cell_type": "markdown",
      "id": "Z9fMov0D2ZsQ",
      "metadata": {
        "id": "Z9fMov0D2ZsQ"
      },
      "source": [
        "**TO DO:** Evaluate the synthetic data using `sdv.evaluation.single_table.evaluate_quality`"
      ]
    },
    {
      "cell_type": "code",
      "execution_count": null,
      "id": "87550927-3582-4cfd-8a19-a4cf3c1d41b9",
      "metadata": {
        "id": "87550927-3582-4cfd-8a19-a4cf3c1d41b9"
      },
      "outputs": [],
      "source": [
        "#Your code"
      ]
    },
    {
      "cell_type": "markdown",
      "id": "5a828708-38a8-4d8b-8d20-3d4125b12a1d",
      "metadata": {
        "id": "5a828708-38a8-4d8b-8d20-3d4125b12a1d"
      },
      "source": [
        "**TO DO:** Plot `charges` vs. `age` in the synthetic dataset vs. the real dataset. Let's discuss !"
      ]
    },
    {
      "cell_type": "code",
      "execution_count": null,
      "id": "72e40354-fe67-4290-8313-8ec42745ef6e",
      "metadata": {
        "id": "72e40354-fe67-4290-8313-8ec42745ef6e"
      },
      "outputs": [],
      "source": [
        "#Your code"
      ]
    },
    {
      "cell_type": "markdown",
      "id": "94191076-7a54-43ef-a9f2-d0d32081d600",
      "metadata": {
        "id": "94191076-7a54-43ef-a9f2-d0d32081d600"
      },
      "source": [
        "**TO DO:** Visualize individual feature distributions using `get_column_plot`"
      ]
    },
    {
      "cell_type": "code",
      "execution_count": null,
      "id": "dbf3db76-3b7e-4d0e-95eb-a086ddd9b6f4",
      "metadata": {
        "id": "dbf3db76-3b7e-4d0e-95eb-a086ddd9b6f4"
      },
      "outputs": [],
      "source": [
        "#Your code"
      ]
    },
    {
      "cell_type": "code",
      "execution_count": null,
      "id": "8438f1a0-90c3-428c-924c-5b55d195a632",
      "metadata": {
        "id": "8438f1a0-90c3-428c-924c-5b55d195a632"
      },
      "outputs": [],
      "source": [
        "report.get_details(property_name='Column Shapes')"
      ]
    },
    {
      "cell_type": "markdown",
      "id": "d1666a54-f5df-4e7a-b6fd-f8a729e112b7",
      "metadata": {
        "id": "d1666a54-f5df-4e7a-b6fd-f8a729e112b7"
      },
      "source": [
        "### Synthetic data generation limitations"
      ]
    },
    {
      "cell_type": "markdown",
      "id": "7a9a34c2-8051-476c-bb7f-5c3af3394acc",
      "metadata": {
        "id": "7a9a34c2-8051-476c-bb7f-5c3af3394acc"
      },
      "source": [
        "- **Quality metrics**: As we saw in this example, the metrics might not accurately reflect the quality of the generated data. It is very important to rely on visualization in order to get a better idea of the quality of the synthetic dataset.\n",
        "- **Models:** As in every ML problem, selecting the right model is a process that needs to be taken seriously. An essential first step towards selecting a good model is to understand the correlations within the data and define features that will be helpful for the model training. We saw here that without feature engineering, the models aren't very performant and that feature engineering improved the results significantly.\n",
        "- **Bigger is not always better**: We might easily think that CTGAN would work every single time, but we have seen in this example that a simple model like a Gaussian Copula can work even better than CTGAN if it's coupled with good feature engineering. For small datasets (like the one we tried here), using large models like CTGAN might result in overfitting and poor generalization, which hinders the capabiliy to generate a good synthetic dataset."
      ]
    },
    {
      "cell_type": "markdown",
      "id": "37d924ea-4eed-4fdd-82e3-b5889e3bcf0a",
      "metadata": {
        "id": "37d924ea-4eed-4fdd-82e3-b5889e3bcf0a"
      },
      "source": [
        "- **PII columns**: PII columns need to be processed before training a synthetic data generation model. This is due to the fact that text is considered as a categorical variable and displays it back into the synthetic dataset. So there is a risk of serious data leakage if PII is not treated correctly."
      ]
    },
    {
      "cell_type": "markdown",
      "id": "9f865996-e8bf-4513-9a7e-b0e4fb6ffd4b",
      "metadata": {
        "id": "9f865996-e8bf-4513-9a7e-b0e4fb6ffd4b"
      },
      "source": [
        "**Let's demonstrate the danger of not treating PII correctly**"
      ]
    },
    {
      "cell_type": "markdown",
      "id": "a3b14272-74b9-4142-8278-9281f0d7721e",
      "metadata": {
        "id": "a3b14272-74b9-4142-8278-9281f0d7721e"
      },
      "source": [
        "**Let's create fake names and add them to the dataset**"
      ]
    },
    {
      "cell_type": "code",
      "execution_count": null,
      "id": "814a0d58-c58e-4e1e-98ee-df66f98f87e3",
      "metadata": {
        "id": "814a0d58-c58e-4e1e-98ee-df66f98f87e3"
      },
      "outputs": [],
      "source": [
        "from faker import Faker\n",
        "fake = Faker()"
      ]
    },
    {
      "cell_type": "code",
      "execution_count": null,
      "id": "1677a010-66c9-46e3-b701-33d5d0676aec",
      "metadata": {
        "id": "1677a010-66c9-46e3-b701-33d5d0676aec"
      },
      "outputs": [],
      "source": [
        "names = [fake.name_male() if row[\"sex\"]==\"male\" else fake.name_female() for _,row in df.iterrows()]\n",
        "df[\"name\"] = names"
      ]
    },
    {
      "cell_type": "code",
      "execution_count": null,
      "id": "8d0E7u5Hrwxc",
      "metadata": {
        "id": "8d0E7u5Hrwxc"
      },
      "outputs": [],
      "source": [
        "metadata = SingleTableMetadata()\n",
        "metadata.detect_from_dataframe(data=df)"
      ]
    },
    {
      "cell_type": "code",
      "execution_count": null,
      "id": "FzKxNs3nzc1s",
      "metadata": {
        "id": "FzKxNs3nzc1s"
      },
      "outputs": [],
      "source": [
        "metadata.update_column(\n",
        "    column_name='name',\n",
        "    sdtype='name')"
      ]
    },
    {
      "cell_type": "code",
      "execution_count": null,
      "id": "d9048cf9-784c-44fd-81ad-f4d4129b5b11",
      "metadata": {
        "id": "d9048cf9-784c-44fd-81ad-f4d4129b5b11"
      },
      "outputs": [],
      "source": [
        "model_gaussian_pii = GaussianCopulaSynthesizer(metadata)\n",
        "model_gaussian_pii.fit(df)"
      ]
    },
    {
      "cell_type": "code",
      "execution_count": null,
      "id": "5548ada3-c988-4134-9756-f7f7880d3c40",
      "metadata": {
        "id": "5548ada3-c988-4134-9756-f7f7880d3c40"
      },
      "outputs": [],
      "source": [
        "df_gaussian_pii = model_gaussian_pii.sample(1400)"
      ]
    },
    {
      "cell_type": "markdown",
      "id": "c51168df-8f54-44e6-b314-c72c423d43fc",
      "metadata": {
        "id": "c51168df-8f54-44e6-b314-c72c423d43fc"
      },
      "source": [
        "**Are any names from the real dataset repeated in the synthetic dataset?**"
      ]
    },
    {
      "cell_type": "code",
      "execution_count": null,
      "id": "08f09a90-a257-44f3-a9de-08690cf92541",
      "metadata": {
        "id": "08f09a90-a257-44f3-a9de-08690cf92541"
      },
      "outputs": [],
      "source": [
        "len(set(df_gaussian_pii[\"name\"]) & set(df[\"name\"]))"
      ]
    },
    {
      "cell_type": "markdown",
      "id": "e5f2c95e-9e84-41f3-9f06-aff6061bdfae",
      "metadata": {
        "id": "e5f2c95e-9e84-41f3-9f06-aff6061bdfae"
      },
      "source": [
        "**How do we fix it?**"
      ]
    },
    {
      "cell_type": "code",
      "execution_count": null,
      "id": "rQ446nB1yK6p",
      "metadata": {
        "id": "rQ446nB1yK6p"
      },
      "outputs": [],
      "source": [
        "from rdt.transformers.pii import AnonymizedFaker\n",
        "\n",
        "model_gaussian_pii.update_transformers(column_name_to_transformer={\n",
        "    'name': AnonymizedFaker(provider_name='person', function_name='name'),\n",
        "})"
      ]
    },
    {
      "cell_type": "code",
      "execution_count": null,
      "id": "43cf531b-51f5-48ab-9e06-35817c7bb581",
      "metadata": {
        "id": "43cf531b-51f5-48ab-9e06-35817c7bb581"
      },
      "outputs": [],
      "source": [
        "model_gaussian_pii.fit(df)"
      ]
    },
    {
      "cell_type": "code",
      "execution_count": null,
      "id": "02ed1df5-6123-4a52-be35-c2102fabc78e",
      "metadata": {
        "id": "02ed1df5-6123-4a52-be35-c2102fabc78e"
      },
      "outputs": [],
      "source": [
        "df_gaussian_pii_2 = model_gaussian_pii.sample(1400)"
      ]
    },
    {
      "cell_type": "markdown",
      "id": "25ce46fb-dafd-4944-a34d-27fcca0611d4",
      "metadata": {
        "id": "25ce46fb-dafd-4944-a34d-27fcca0611d4"
      },
      "source": [
        "**Does it really work ?**"
      ]
    },
    {
      "cell_type": "code",
      "execution_count": null,
      "id": "299d5b17-e168-43f2-a222-f3fa1132a2ca",
      "metadata": {
        "id": "299d5b17-e168-43f2-a222-f3fa1132a2ca"
      },
      "outputs": [],
      "source": [
        "#Your code"
      ]
    }
  ],
  "metadata": {
    "accelerator": "GPU",
    "colab": {
      "gpuType": "T4",
      "provenance": []
    },
    "gpuClass": "standard",
    "kernelspec": {
      "display_name": "Python 3 (ipykernel)",
      "language": "python",
      "name": "python3"
    },
    "language_info": {
      "codemirror_mode": {
        "name": "ipython",
        "version": 3
      },
      "file_extension": ".py",
      "mimetype": "text/x-python",
      "name": "python",
      "nbconvert_exporter": "python",
      "pygments_lexer": "ipython3",
      "version": "3.8.13"
    }
  },
  "nbformat": 4,
  "nbformat_minor": 5
}